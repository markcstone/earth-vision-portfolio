{
 "cells": [
  {
   "cell_type": "code",
   "execution_count": 1,
   "id": "5b8bf92c-78a2-4036-bc23-a977e9c15227",
   "metadata": {},
   "outputs": [
    {
     "name": "stderr",
     "output_type": "stream",
     "text": [
      "/opt/miniconda3/envs/geoai/lib/python3.11/site-packages/ee/deprecation.py:209: DeprecationWarning: \n",
      "\n",
      "Attention required for COPERNICUS/S2_SR! You are using a deprecated asset.\n",
      "To make sure your code keeps working, please update it.\n",
      "Learn more: https://developers.google.com/earth-engine/datasets/catalog/COPERNICUS_S2_SR\n",
      "\n",
      "  warnings.warn(warning, category=DeprecationWarning)\n"
     ]
    },
    {
     "data": {
      "application/vnd.jupyter.widget-view+json": {
       "model_id": "64e68fab2f924a96b2e97e806b689584",
       "version_major": 2,
       "version_minor": 0
      },
      "text/plain": [
       "Map(center=[-41.120018539438874, -73.02500000000035], controls=(WidgetControl(options=['position', 'transparen…"
      ]
     },
     "execution_count": 1,
     "metadata": {},
     "output_type": "execute_result"
    }
   ],
   "source": [
    "import ee\n",
    "ee.Initialize()\n",
    "\n",
    "import geemap\n",
    "ee.Initialize()\n",
    "\n",
    "# Define a simple AOI (Los Lagos region)\n",
    "aoi = ee.Geometry.Polygon(\n",
    "    [[[-73.11, -41.07],\n",
    "      [-72.94, -41.07],\n",
    "      [-72.94, -41.17],\n",
    "      [-73.11, -41.17]]])\n",
    "\n",
    "# Load a Sentinel-2 image\n",
    "image = (\n",
    "    ee.ImageCollection('COPERNICUS/S2_SR')\n",
    "    .filterBounds(aoi)\n",
    "    .filterDate('2023-01-01', '2023-12-31')\n",
    "    .sort('CLOUDY_PIXEL_PERCENTAGE')\n",
    "    .first()\n",
    ")\n",
    "\n",
    "# Visualize\n",
    "Map = geemap.Map()\n",
    "Map.centerObject(aoi, 8)\n",
    "Map.addLayer(image, {'min': 0, 'max': 3000, 'bands': ['B4', 'B3', 'B2']}, 'Sentinel-2')\n",
    "Map"
   ]
  },
  {
   "cell_type": "code",
   "execution_count": 2,
   "id": "661f13d1",
   "metadata": {},
   "outputs": [
    {
     "data": {
      "text/html": [
       "\n",
       "            <style>\n",
       "                .geemap-dark {\n",
       "                    --jp-widgets-color: white;\n",
       "                    --jp-widgets-label-color: white;\n",
       "                    --jp-ui-font-color1: white;\n",
       "                    --jp-layout-color2: #454545;\n",
       "                    background-color: #383838;\n",
       "                }\n",
       "\n",
       "                .geemap-dark .jupyter-button {\n",
       "                    --jp-layout-color3: #383838;\n",
       "                }\n",
       "\n",
       "                .geemap-colab {\n",
       "                    background-color: var(--colab-primary-surface-color, white);\n",
       "                }\n",
       "\n",
       "                .geemap-colab .jupyter-button {\n",
       "                    --jp-layout-color3: var(--colab-primary-surface-color, white);\n",
       "                }\n",
       "            </style>\n",
       "            "
      ],
      "text/plain": [
       "<IPython.core.display.HTML object>"
      ]
     },
     "metadata": {},
     "output_type": "display_data"
    },
    {
     "data": {
      "application/vnd.jupyter.widget-view+json": {
       "model_id": "0d89af7880244defb3254ddeeff376ba",
       "version_major": 2,
       "version_minor": 0
      },
      "text/plain": [
       "Map(center=[-41.3, -72.8], controls=(WidgetControl(options=['position', 'transparent_bg'], position='topright'…"
      ]
     },
     "execution_count": 2,
     "metadata": {},
     "output_type": "execute_result"
    }
   ],
   "source": [
    "import json\n",
    "\n",
    "# Create a map centered on your region\n",
    "Map = geemap.Map(center=[-41.3, -72.8], zoom=9)\n",
    "\n",
    "# Use the drawing tools to create a polygon\n",
    "# Click the polygon tool and draw your AOI\n",
    "Map"
   ]
  },
  {
   "cell_type": "code",
   "execution_count": 5,
   "id": "eb17c5f4",
   "metadata": {},
   "outputs": [
    {
     "data": {
      "text/html": [
       "\n",
       "            <style>\n",
       "                .geemap-dark {\n",
       "                    --jp-widgets-color: white;\n",
       "                    --jp-widgets-label-color: white;\n",
       "                    --jp-ui-font-color1: white;\n",
       "                    --jp-layout-color2: #454545;\n",
       "                    background-color: #383838;\n",
       "                }\n",
       "\n",
       "                .geemap-dark .jupyter-button {\n",
       "                    --jp-layout-color3: #383838;\n",
       "                }\n",
       "\n",
       "                .geemap-colab {\n",
       "                    background-color: var(--colab-primary-surface-color, white);\n",
       "                }\n",
       "\n",
       "                .geemap-colab .jupyter-button {\n",
       "                    --jp-layout-color3: var(--colab-primary-surface-color, white);\n",
       "                }\n",
       "            </style>\n",
       "            "
      ],
      "text/plain": [
       "<IPython.core.display.HTML object>"
      ]
     },
     "metadata": {},
     "output_type": "display_data"
    },
    {
     "name": "stdout",
     "output_type": "stream",
     "text": [
      "✓ AOI saved to data/external/aoi.geojson\n"
     ]
    }
   ],
   "source": [
    "# Get the last drawn feature\n",
    "aoi = Map.draw_last_feature\n",
    "# Convert to GeoJSON\n",
    "aoi_geojson = geemap.ee_to_geojson(aoi)\n",
    "# Save to file\n",
    "with open('../data/external/aoi.geojson', 'w') as f:\n",
    "    json.dump(aoi_geojson, f, indent=2)\n",
    "print(\"✓ AOI saved to data/external/aoi.geojson\")"
   ]
  },
  {
   "cell_type": "code",
   "execution_count": 8,
   "id": "b0f30f42",
   "metadata": {},
   "outputs": [
    {
     "data": {
      "text/html": [
       "\n",
       "            <style>\n",
       "                .geemap-dark {\n",
       "                    --jp-widgets-color: white;\n",
       "                    --jp-widgets-label-color: white;\n",
       "                    --jp-ui-font-color1: white;\n",
       "                    --jp-layout-color2: #454545;\n",
       "                    background-color: #383838;\n",
       "                }\n",
       "\n",
       "                .geemap-dark .jupyter-button {\n",
       "                    --jp-layout-color3: #383838;\n",
       "                }\n",
       "\n",
       "                .geemap-colab {\n",
       "                    background-color: var(--colab-primary-surface-color, white);\n",
       "                }\n",
       "\n",
       "                .geemap-colab .jupyter-button {\n",
       "                    --jp-layout-color3: var(--colab-primary-surface-color, white);\n",
       "                }\n",
       "            </style>\n",
       "            "
      ],
      "text/plain": [
       "<IPython.core.display.HTML object>"
      ]
     },
     "metadata": {},
     "output_type": "display_data"
    },
    {
     "data": {
      "application/vnd.jupyter.widget-view+json": {
       "model_id": "6ea04abb1776467aad945eaf7f378098",
       "version_major": 2,
       "version_minor": 0
      },
      "text/plain": [
       "Map(center=[-41.12099664217866, -73.056936000002], controls=(WidgetControl(options=['position', 'transparent_b…"
      ]
     },
     "execution_count": 8,
     "metadata": {},
     "output_type": "execute_result"
    }
   ],
   "source": [
    "import json, ee, geemap\n",
    "\n",
    "# Load AOI\n",
    "with open('../data/external/aoi.geojson', 'r') as f:\n",
    "    aoi_geojson = json.load(f)\n",
    "aoi_ee = geemap.geojson_to_ee(aoi_geojson)\n",
    "\n",
    "# Map\n",
    "Map = geemap.Map()\n",
    "Map.add_basemap('SATELLITE')  # add basemap first\n",
    "\n",
    "# Draw an outline regardless of geometry/feature/collection\n",
    "outline = ee.Image().byte().paint(aoi_ee, 1, 3)  # value=1, width=3 px\n",
    "Map.addLayer(outline, {'palette': 'red'}, 'AOI outline')\n",
    "\n",
    "# Center on AOI\n",
    "Map.centerObject(aoi_ee, 8)\n",
    "Map"
   ]
  }
 ],
 "metadata": {
  "kernelspec": {
   "display_name": "Python (geoai)",
   "language": "python",
   "name": "geoai"
  },
  "language_info": {
   "codemirror_mode": {
    "name": "ipython",
    "version": 3
   },
   "file_extension": ".py",
   "mimetype": "text/x-python",
   "name": "python",
   "nbconvert_exporter": "python",
   "pygments_lexer": "ipython3",
   "version": "3.11.11"
  }
 },
 "nbformat": 4,
 "nbformat_minor": 5
}
