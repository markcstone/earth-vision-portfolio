{
 "cells": [
  {
   "cell_type": "code",
   "execution_count": 1,
   "id": "de88e7ac",
   "metadata": {},
   "outputs": [
    {
     "data": {
      "application/vnd.jupyter.widget-view+json": {
       "model_id": "d0719b7ba40e4a9094015b87d92af795",
       "version_major": 2,
       "version_minor": 0
      },
      "text/plain": [
       "Map(center=[-41.12099664217866, -73.056936000002], controls=(WidgetControl(options=['position', 'transparent_b…"
      ]
     },
     "execution_count": 1,
     "metadata": {},
     "output_type": "execute_result"
    }
   ],
   "source": [
    "\"\"\"\n",
    "Week 0: First Earth Observation Visualization\n",
    "Create a multi-panel figure showing your AOI with different visualizations.\n",
    "\"\"\"\n",
    "\n",
    "import ee\n",
    "import geemap\n",
    "import json\n",
    "import matplotlib.pyplot as plt\n",
    "\n",
    "# Initialize Earth Engine\n",
    "ee.Initialize()\n",
    "\n",
    "# Load your AOI\n",
    "with open('../data/external/aoi.geojson', 'r') as f:\n",
    "    aoi_geojson = json.load(f)\n",
    "aoi = geemap.geojson_to_ee(aoi_geojson)\n",
    "\n",
    "# Load Sentinel-2 imagery\n",
    "s2 = ee.ImageCollection('COPERNICUS/S2_SR_HARMONIZED')\n",
    "\n",
    "# Filter for your AOI and recent date\n",
    "image = (s2\n",
    "    .filterBounds(aoi)\n",
    "    .filterDate('2023-06-01', '2023-09-01')  # Summer imagery\n",
    "    .filter(ee.Filter.lt('CLOUDY_PIXEL_PERCENTAGE', 20))\n",
    "    .median())\n",
    "\n",
    "# Create visualizations\n",
    "Map = geemap.Map()\n",
    "Map.centerObject(aoi, 9)\n",
    "\n",
    "# True color\n",
    "true_color = {'bands': ['B4', 'B3', 'B2'], 'min': 0, 'max': 3000, 'gamma': 1.4}\n",
    "Map.addLayer(image, true_color, 'True Color')\n",
    "\n",
    "# False color (vegetation in red)\n",
    "false_color = {'bands': ['B8', 'B4', 'B3'], 'min': 0, 'max': 3000, 'gamma': 1.4}\n",
    "Map.addLayer(image, false_color, 'False Color (NIR-R-G)')\n",
    "\n",
    "# NDVI\n",
    "ndvi = image.normalizedDifference(['B8', 'B4'])\n",
    "ndvi_vis = {'min': -0.2, 'max': 0.8, 'palette': ['blue', 'white', 'green']}\n",
    "Map.addLayer(ndvi, ndvi_vis, 'NDVI')\n",
    "\n",
    "# Add AOI outline\n",
    "Map.addLayer(aoi, {'color': 'red'}, 'AOI Boundary')\n",
    "\n",
    "Map"
   ]
  }
 ],
 "metadata": {
  "kernelspec": {
   "display_name": "geoai",
   "language": "python",
   "name": "python3"
  },
  "language_info": {
   "codemirror_mode": {
    "name": "ipython",
    "version": 3
   },
   "file_extension": ".py",
   "mimetype": "text/x-python",
   "name": "python",
   "nbconvert_exporter": "python",
   "pygments_lexer": "ipython3",
   "version": "3.11.11"
  }
 },
 "nbformat": 4,
 "nbformat_minor": 5
}
