{
 "cells": [
  {
   "cell_type": "markdown",
   "metadata": {},
   "source": [
    "# Week 1 Lab: Exploring the Earth as Data\n",
    "\n",
    "---\n",
    "\n",
    "**Objective:** Develop an intuitive understanding of spectral imagery by visualizing and analyzing Sentinel-2 data for one of the course case study regions using the GEE Python API."
   ]
  },
  {
   "cell_type": "markdown",
   "metadata": {},
   "source": [
    "### 1. Setup and Authentication\n",
    "\n",
    "First, we need to install the necessary libraries and authenticate with Google Earth Engine. If you have already installed these libraries, you can skip the installation step."
   ]
  },
  {
   "cell_type": "code",
   "execution_count": null,
   "metadata": {},
   "outputs": [],
   "source": [
    "#!pip install earthengine-api geemap matplotlib"
   ]
  },
  {
   "cell_type": "code",
   "execution_count": null,
   "metadata": {},
   "outputs": [],
   "source": [
    "import ee\n",
    "import geemap\n",
    "import matplotlib.pyplot as plt\n",
    "import json\n",
    "\n",
    "# Initialize Earth Engine (auth if needed)\n",
    "try:\n",
    "    ee.Initialize()\n",
    "    print('Earth Engine initialized')\n",
    "except Exception as e:\n",
    "    print('EE init failed, attempting auth...')\n",
    "    ee.Authenticate()\n",
    "    ee.Initialize()\n",
    "    print('Earth Engine authenticated and initialized')"
   ]
  },
  {
   "cell_type": "markdown",
   "metadata": {},
   "source": [
    "### 2. Define Region of Interest (AOI)\n",
    "\n",
    "Now, let's define our region of interest. We will use the coordinates for the Los Lagos region in Chile, but feel free to choose another case study area. You can use a tool like [geojson.io](http://geojson.io/) to get the coordinates for your desired AOI."
   ]
  },
  {
   "cell_type": "code",
   "execution_count": null,
   "metadata": {},
   "outputs": [],
   "source": [
    "# Load AOI from GeoJSON at data/external/aoi.geojson\n",
    "from pathlib import Path\n",
    "import geopandas as gpd\n",
    "\n",
    "AOI_PATH = Path('../data/external/aoi.geojson')\n",
    "aoi_gdf = gpd.read_file(AOI_PATH)\n",
    "if aoi_gdf.crs is None:\n",
    "    aoi_gdf.set_crs(epsg=4326, inplace=True)\n",
    "\n",
    "aoi_geojson = json.loads(aoi_gdf.to_crs(epsg=4326).to_json())\n",
    "coords = aoi_geojson['features'][0]['geometry']\n",
    "AOI_EE = ee.Geometry(coords)\n",
    "print('AOI loaded from', AOI_PATH)\n",
    "print('AOI bounds (EPSG:4326):', aoi_gdf.to_crs(epsg=4326).total_bounds)"
   ]
  },
  {
   "cell_type": "markdown",
   "metadata": {},
   "source": [
    "### 3. Load Sentinel-2 Imagery\n",
    "\n",
    "Next, we will search for a recent, cloud-free Sentinel-2 image for our AOI. We will filter the image collection by date and cloud cover, and then select the first image in the collection."
   ]
  },
  {
   "cell_type": "code",
   "execution_count": null,
   "metadata": {},
   "outputs": [],
   "source": [
    "image = (\n",
    "    ee.ImageCollection('COPERNICUS/S2_SR_HARMONIZED')\n",
    "    .filterBounds(AOI_EE)\n",
    "    .filterDate('2023-01-01', '2023-12-31')\n",
    "    .filter(ee.Filter.lt('CLOUDY_PIXEL_PERCENTAGE', 30))\n",
    "    .sort('CLOUDY_PIXEL_PERCENTAGE')\n",
    "    .first()\n",
    ")\n",
    "print('Selected image date:', ee.Date(image.get('system:time_start')).format('YYYY-MM-dd').getInfo())"
   ]
  },
  {
   "cell_type": "markdown",
   "metadata": {},
   "source": [
    "### 4. Visualize Band Combinations\n",
    "\n",
    "Let's visualize the image using different band combinations. We will create a true color composite (RGB) and a false color composite (NIR, Red, Green)."
   ]
  },
  {
   "cell_type": "code",
   "execution_count": null,
   "metadata": {},
   "outputs": [],
   "source": [
    "rgb_vis_params = {'min': 0, 'max': 3000, 'bands': ['B4', 'B3', 'B2']}\n",
    "false_color_vis_params = {'min': 0, 'max': 3000, 'bands': ['B8', 'B4', 'B3']}\n",
    "\n",
    "map = geemap.Map()\n",
    "map.centerObject(AOI_EE, 11)\n",
    "map.addLayer(AOI_EE, {'color': 'yellow'}, 'AOI')\n",
    "map.addLayer(image, rgb_vis_params, 'True Color (RGB)')\n",
    "map.addLayer(image, false_color_vis_params, 'False Color (NIR-R-G)')\n",
    "map"
   ]
  },
  {
   "cell_type": "markdown",
   "metadata": {},
   "source": [
    "### 5. Calculate Spectral Indices\n",
    "\n",
    "Now, let's calculate the Normalized Difference Vegetation Index (NDVI) and the Normalized Difference Water Index (NDWI). These indices will help us highlight vegetation and water bodies in the image."
   ]
  },
  {
   "cell_type": "code",
   "execution_count": null,
   "metadata": {},
   "outputs": [],
   "source": [
    "ndvi = image.normalizedDifference(['B8', 'B4']).rename('NDVI')\n",
    "ndwi = image.normalizedDifference(['B3', 'B8']).rename('NDWI')\n",
    "ndbi = image.normalizedDifference(['B11', 'B8']).rename('NDBI')\n",
    "\n",
    "ndvi_vis_params = {'min': -0.2, 'max': 0.8, 'palette': ['blue', 'white', 'green']}\n",
    "ndwi_vis_params = {'min': -0.5, 'max': 0.5, 'palette': ['brown', 'white', 'blue']}\n",
    "ndbi_vis_params = {'min': -0.5, 'max': 0.5, 'palette': ['green', 'white', 'gray']}\n",
    "\n",
    "map.addLayer(ndvi, ndvi_vis_params, 'NDVI')\n",
    "map.addLayer(ndwi, ndwi_vis_params, 'NDWI')\n",
    "map.addLayer(ndbi, ndbi_vis_params, 'NDBI')\n",
    "map"
   ]
  },
  {
   "cell_type": "markdown",
   "metadata": {},
   "source": [
    "### 6. Create a Composite Visualization\n",
    "\n",
    "Finally, let's create a 2x2 panel visualization to compare the different views of our AOI. We will use `matplotlib` to create the plot and `geemap` to get the thumbnail images."
   ]
  },
  {
   "cell_type": "code",
   "execution_count": null,
   "metadata": {},
   "outputs": [],
   "source": [
    "# Simple and robust 2x2 composite: save thumbnails to disk, read with plt.imread\n",
    "\n",
    "import os\n",
    "import tempfile\n",
    "import matplotlib.pyplot as plt\n",
    "import matplotlib.image as mpimg\n",
    "\n",
    "tmpdir = tempfile.gettempdir()\n",
    "rgb_path   = os.path.join(tmpdir, 'thumb_rgb.png')\n",
    "false_path = os.path.join(tmpdir, 'thumb_false.png')\n",
    "ndvi_path  = os.path.join(tmpdir, 'thumb_ndvi.png')\n",
    "ndwi_path  = os.path.join(tmpdir, 'thumb_ndwi.png')\n",
    "\n",
    "# Save thumbnails (ignore return values)\n",
    "geemap.get_image_thumbnail(image, rgb_path,   vis_params=rgb_vis,   region=AOI_EE, dimensions=512, format='png')\n",
    "geemap.get_image_thumbnail(image, false_path, vis_params=false_vis, region=AOI_EE, dimensions=512, format='png')\n",
    "geemap.get_image_thumbnail(ndvi,  ndvi_path,  vis_params=ndvi_vis,  region=AOI_EE, dimensions=512, format='png')\n",
    "geemap.get_image_thumbnail(ndwi,  ndwi_path,  vis_params=ndwi_vis,  region=AOI_EE, dimensions=512, format='png')\n",
    "\n",
    "# Read PNGs as arrays for imshow\n",
    "rgb_img   = mpimg.imread(rgb_path)\n",
    "false_img = mpimg.imread(false_path)\n",
    "ndvi_img  = mpimg.imread(ndvi_path)\n",
    "ndwi_img  = mpimg.imread(ndwi_path)\n",
    "\n",
    "fig, axes = plt.subplots(2, 2, figsize=(12, 12))\n",
    "axes[0, 0].imshow(rgb_img);   axes[0, 0].set_title('True Color (RGB)');      axes[0, 0].axis('off')\n",
    "axes[0, 1].imshow(false_img); axes[0, 1].set_title('False Color (NIR-R-G)'); axes[0, 1].axis('off')\n",
    "axes[1, 0].imshow(ndvi_img);  axes[1, 0].set_title('NDVI');                  axes[1, 0].axis('off')\n",
    "axes[1, 1].imshow(ndwi_img);  axes[1, 1].set_title('NDWI');                  axes[1, 1].axis('off')\n",
    "plt.tight_layout()\n",
    "plt.savefig('../figures/week1_composite.png', dpi=300, bbox_inches='tight')\n",
    "plt.show()"
   ]
  },
  {
   "cell_type": "markdown",
   "metadata": {},
   "source": [
    "🖼️ Top Left – True Color (RGB)\n",
    "\t•\tBands used: Red, Green, Blue\n",
    "\t•\tWhat it shows: This simulates what the human eye sees — a natural‐color image.\n",
    "\t•\tInterpretation:\n",
    "\t•\tVegetation appears green,\n",
    "\t•\tUrban areas (roads, rooftops) look light gray or white,\n",
    "\t•\tThe lake appears dark blue to black, since water absorbs most visible light,\n",
    "\t•\tAgricultural fields show a patchwork of green (active crops) and brown (bare soil or harvested areas).\n",
    "\t•\tPurpose: Good for visual familiarity but limited in analytical value since vegetation and soil can look similar depending on illumination.\n",
    "\n",
    "⸻\n",
    "\n",
    "🌾 Top Right – False Color Composite (NIR–R–G)\n",
    "\t•\tBands used: Near Infrared (NIR) → Red channel, Red → Green channel, Green → Blue channel\n",
    "\t•\tWhat it shows: Highlights vegetation in bright red tones because vegetation strongly reflects NIR.\n",
    "\t•\tInterpretation:\n",
    "\t•\tHealthy vegetation → bright red\n",
    "\t•\tUrban/built-up areas → light gray or cyan\n",
    "\t•\tBare soil or dry fields → dull pink to brown\n",
    "\t•\tWater bodies → very dark or black (NIR absorbed)\n",
    "\t•\tPurpose: Excellent for assessing vegetation vigor and identifying water or built-up surfaces.\n",
    "\n",
    "⸻\n",
    "\n",
    "🌱 Bottom Left – NDVI (Normalized Difference Vegetation Index)\n",
    "\t•\tEquation: (NIR – Red) / (NIR + Red)\n",
    "\t•\tWhat it shows: Relative vegetation greenness and density.\n",
    "\t•\tInterpretation:\n",
    "\t•\tBright green areas → high NDVI (dense, healthy vegetation)\n",
    "\t•\tPale green/gray → sparse vegetation or fallow fields\n",
    "\t•\tBlue/purple areas (low or negative NDVI) → non-vegetated surfaces such as urban areas and water\n",
    "\t•\tPurpose: Quantifies vegetation health and land cover types.\n",
    "You can clearly distinguish forests, croplands, and urban patches.\n",
    "\n",
    "⸻\n",
    "\n",
    "💧 Bottom Right – NDWI (Normalized Difference Water Index)\n",
    "\t•\tEquation: (Green – NIR) / (Green + NIR)\n",
    "\t•\tWhat it shows: Surface water and wetness levels.\n",
    "\t•\tInterpretation:\n",
    "\t•\tBlue areas → high NDWI (open water or saturated soil)\n",
    "\t•\tBrown/red areas → low NDWI (dry land or built-up areas)\n",
    "\t•\tObservation:\n",
    "\t•\tThe lake shows very bright blue — strong positive NDWI confirming open water.\n",
    "\t•\tMinor blue patches near the city could indicate ponds, reservoirs, or flooded fields.\n",
    "\t•\tPurpose: Isolates surface water and monitors seasonal changes or flooding."
   ]
  },
  {
   "cell_type": "markdown",
   "metadata": {},
   "source": [
    "### 7. Reflection\n",
    "\n",
    "Answer the following questions in your `Week1_Reflection.md` file:\n",
    "\n",
    "1. What patterns did you observe in the different band combinations and spectral indices? How did they differ from each other?\n",
    "2. What do you think are the main advantages and disadvantages of using satellite imagery for environmental monitoring?\n",
    "3. How might the resolutions (spatial, temporal, spectral) of the satellite imagery affect your ability to answer specific environmental questions?"
   ]
  }
 ],
 "metadata": {
  "kernelspec": {
   "display_name": "geoai",
   "language": "python",
   "name": "python3"
  },
  "language_info": {
   "codemirror_mode": {
    "name": "ipython",
    "version": 3
   },
   "file_extension": ".py",
   "mimetype": "text/x-python",
   "name": "python",
   "nbconvert_exporter": "python",
   "pygments_lexer": "ipython3",
   "version": "3.11.11"
  }
 },
 "nbformat": 4,
 "nbformat_minor": 4
}
