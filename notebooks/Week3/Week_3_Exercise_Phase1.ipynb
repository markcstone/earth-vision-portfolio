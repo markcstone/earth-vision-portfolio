{
 "cells": [
  {
   "cell_type": "markdown",
   "metadata": {},
   "source": [
    "# Week 3 Activity 1: Phase 1 - Foundations & Diagnostics\n",
    "\n",
    "## Learning Objectives\n",
    "\n",
    "By the end of this notebook, you will understand:\n",
    "\n",
    "1. **Why test before batch processing** - The importance of validating your approach on a single example\n",
    "2. **How polygon size constrains patch size** - The relationship between training data geometry and CNN input dimensions\n",
    "3. **How to extract patches from Earth Engine** - The mechanics of converting satellite imagery to NumPy arrays\n",
    "4. **How to determine optimal parameters** - Balancing spatial context with polygon constraints\n",
    "\n",
    "## What is Phase 1?\n",
    "\n",
    "Phase 1 is about **validation and configuration** before attempting batch extraction. We will:\n",
    "\n",
    "- Load and analyze our training polygons to understand size constraints\n",
    "- Verify access to our Sentinel-2 composite imagery\n",
    "- **Test extraction on a single patch** (the critical diagnostic!)\n",
    "- Determine optimal patch size and extraction parameters\n",
    "\n",
    "**The key insight:** If single-patch extraction fails, batch extraction will also fail. Better to catch issues now!\n",
    "\n",
    "---"
   ]
  },
  {
   "cell_type": "markdown",
   "metadata": {},
   "source": [
    "## Section 1: Setup & Configuration\n",
    "\n",
    "We'll start by importing the necessary packages and initializing Earth Engine."
   ]
  },
  {
   "cell_type": "code",
   "execution_count": 1,
   "metadata": {},
   "outputs": [
    {
     "name": "stdout",
     "output_type": "stream",
     "text": [
      "✓ Packages imported\n",
      "✓ Earth Engine initialized\n"
     ]
    }
   ],
   "source": [
    "# Import required packages\n",
    "import numpy as np\n",
    "import pandas as pd\n",
    "import geopandas as gpd\n",
    "import matplotlib.pyplot as plt\n",
    "import ee\n",
    "import geemap\n",
    "from pathlib import Path\n",
    "\n",
    "# Set plotting style\n",
    "plt.style.use('seaborn-v0_8-darkgrid')\n",
    "\n",
    "# Initialize Earth Engine\n",
    "ee.Initialize()\n",
    "\n",
    "print(\"✓ Packages imported\")\n",
    "print(\"✓ Earth Engine initialized\")"
   ]
  },
  {
   "cell_type": "code",
   "execution_count": 2,
   "metadata": {},
   "outputs": [
    {
     "data": {
      "text/html": [
       "\n",
       "            <style>\n",
       "                .geemap-dark {\n",
       "                    --jp-widgets-color: white;\n",
       "                    --jp-widgets-label-color: white;\n",
       "                    --jp-ui-font-color1: white;\n",
       "                    --jp-layout-color2: #454545;\n",
       "                    background-color: #383838;\n",
       "                }\n",
       "\n",
       "                .geemap-dark .jupyter-button {\n",
       "                    --jp-layout-color3: #383838;\n",
       "                }\n",
       "\n",
       "                .geemap-colab {\n",
       "                    background-color: var(--colab-primary-surface-color, white);\n",
       "                }\n",
       "\n",
       "                .geemap-colab .jupyter-button {\n",
       "                    --jp-layout-color3: var(--colab-primary-surface-color, white);\n",
       "                }\n",
       "            </style>\n",
       "            "
      ],
      "text/plain": [
       "<IPython.core.display.HTML object>"
      ]
     },
     "metadata": {},
     "output_type": "display_data"
    },
    {
     "name": "stdout",
     "output_type": "stream",
     "text": [
      "Data directory: /Users/mstone14/QGIS/GeoAI_Class/github/earth-vision-portfolio/data\n",
      "Polygons file: larger_polygons.geojson\n",
      "Bands: ['B2', 'B3', 'B4', 'B8', 'B11', 'B12']\n"
     ]
    }
   ],
   "source": [
    "# Define paths\n",
    "REPO = Path.cwd().parent  # Repository root (assumes running from notebooks/)\n",
    "DATA = REPO / 'data'\n",
    "POLYGONS_FILE = DATA / 'labels' / 'larger_polygons.geojson'\n",
    "AOI_FILE = DATA / 'external' / 'larger_aoi.geojson'\n",
    "\n",
    "# Configuration\n",
    "BANDS = ['B2', 'B3', 'B4', 'B8', 'B11', 'B12']  # Blue, Green, Red, NIR, SWIR1, SWIR2\n",
    "ASSET_ID = 'users/markstonegobigred/Parcela/s2_2019_median_6b'  # Pre-built Sentinel-2 composite\n",
    "\n",
    "print(f\"Data directory: {DATA}\")\n",
    "print(f\"Polygons file: {POLYGONS_FILE.name}\")\n",
    "print(f\"Bands: {BANDS}\")"
   ]
  },
  {
   "cell_type": "markdown",
   "metadata": {},
   "source": [
    "---\n",
    "\n",
    "## Section 2: Load & Analyze Training Polygons\n",
    "\n",
    "### Why polygon size matters\n",
    "\n",
    "**The fundamental constraint:** Patches must fit **inside** training polygons.\n",
    "\n",
    "If your smallest polygon is 100m × 100m, you can't extract 200m × 200m patches from it!\n",
    "\n",
    "**Key concept:** The **smallest class** (by median area) determines the maximum patch size we can use.\n",
    "\n",
    "Let's load our polygons and calculate their sizes."
   ]
  },
  {
   "cell_type": "code",
   "execution_count": 3,
   "metadata": {},
   "outputs": [
    {
     "data": {
      "text/html": [
       "\n",
       "            <style>\n",
       "                .geemap-dark {\n",
       "                    --jp-widgets-color: white;\n",
       "                    --jp-widgets-label-color: white;\n",
       "                    --jp-ui-font-color1: white;\n",
       "                    --jp-layout-color2: #454545;\n",
       "                    background-color: #383838;\n",
       "                }\n",
       "\n",
       "                .geemap-dark .jupyter-button {\n",
       "                    --jp-layout-color3: #383838;\n",
       "                }\n",
       "\n",
       "                .geemap-colab {\n",
       "                    background-color: var(--colab-primary-surface-color, white);\n",
       "                }\n",
       "\n",
       "                .geemap-colab .jupyter-button {\n",
       "                    --jp-layout-color3: var(--colab-primary-surface-color, white);\n",
       "                }\n",
       "            </style>\n",
       "            "
      ],
      "text/plain": [
       "<IPython.core.display.HTML object>"
      ]
     },
     "metadata": {},
     "output_type": "display_data"
    },
    {
     "name": "stdout",
     "output_type": "stream",
     "text": [
      "Loaded 126 training polygons\n",
      "Classes: ['Agriculture', 'Forest', 'Parcels', 'Urban', 'Water']\n"
     ]
    }
   ],
   "source": [
    "# Load polygons and ensure WGS84 (required for Earth Engine)\n",
    "polygons = gpd.read_file(POLYGONS_FILE)\n",
    "if polygons.crs.to_string() != 'EPSG:4326':\n",
    "    polygons = polygons.to_crs('EPSG:4326')\n",
    "\n",
    "print(f\"Loaded {len(polygons)} training polygons\")\n",
    "print(f\"Classes: {sorted(polygons['class_name'].unique())}\")"
   ]
  },
  {
   "cell_type": "code",
   "execution_count": 4,
   "metadata": {},
   "outputs": [
    {
     "data": {
      "text/html": [
       "\n",
       "            <style>\n",
       "                .geemap-dark {\n",
       "                    --jp-widgets-color: white;\n",
       "                    --jp-widgets-label-color: white;\n",
       "                    --jp-ui-font-color1: white;\n",
       "                    --jp-layout-color2: #454545;\n",
       "                    background-color: #383838;\n",
       "                }\n",
       "\n",
       "                .geemap-dark .jupyter-button {\n",
       "                    --jp-layout-color3: #383838;\n",
       "                }\n",
       "\n",
       "                .geemap-colab {\n",
       "                    background-color: var(--colab-primary-surface-color, white);\n",
       "                }\n",
       "\n",
       "                .geemap-colab .jupyter-button {\n",
       "                    --jp-layout-color3: var(--colab-primary-surface-color, white);\n",
       "                }\n",
       "            </style>\n",
       "            "
      ],
      "text/plain": [
       "<IPython.core.display.HTML object>"
      ]
     },
     "metadata": {},
     "output_type": "display_data"
    },
    {
     "name": "stdout",
     "output_type": "stream",
     "text": [
      "\n",
      "Class Statistics (hectares):\n",
      "             count  median   min    max\n",
      "class_name                             \n",
      "Agriculture     35    5.48  0.58  10.82\n",
      "Forest          16    8.90  2.76  32.03\n",
      "Parcels         32    8.08  3.11  37.27\n",
      "Urban           29    2.14  0.65   6.51\n",
      "Water           13    3.39  0.17  10.24\n"
     ]
    }
   ],
   "source": [
    "# Calculate areas in hectares\n",
    "# Convert to UTM (EPSG:32718 = UTM Zone 18S for Chile) for accurate metric measurements\n",
    "polygons_utm = polygons.to_crs('EPSG:32718')\n",
    "polygons['area_ha'] = polygons_utm.geometry.area / 10000  # m² to hectares\n",
    "\n",
    "# Compute per-class statistics\n",
    "class_stats = polygons.groupby('class_name')['area_ha'].agg(['count', 'median', 'min', 'max']).round(2)\n",
    "\n",
    "print(\"\\nClass Statistics (hectares):\")\n",
    "print(class_stats)"
   ]
  },
  {
   "cell_type": "code",
   "execution_count": 5,
   "metadata": {},
   "outputs": [
    {
     "data": {
      "text/html": [
       "\n",
       "            <style>\n",
       "                .geemap-dark {\n",
       "                    --jp-widgets-color: white;\n",
       "                    --jp-widgets-label-color: white;\n",
       "                    --jp-ui-font-color1: white;\n",
       "                    --jp-layout-color2: #454545;\n",
       "                    background-color: #383838;\n",
       "                }\n",
       "\n",
       "                .geemap-dark .jupyter-button {\n",
       "                    --jp-layout-color3: #383838;\n",
       "                }\n",
       "\n",
       "                .geemap-colab {\n",
       "                    background-color: var(--colab-primary-surface-color, white);\n",
       "                }\n",
       "\n",
       "                .geemap-colab .jupyter-button {\n",
       "                    --jp-layout-color3: var(--colab-primary-surface-color, white);\n",
       "                }\n",
       "            </style>\n",
       "            "
      ],
      "text/plain": [
       "<IPython.core.display.HTML object>"
      ]
     },
     "metadata": {},
     "output_type": "display_data"
    },
    {
     "name": "stdout",
     "output_type": "stream",
     "text": [
      "\n",
      "🔍 Key Finding:\n",
      "   Smallest class: Urban\n",
      "   Median area: 2.14 ha\n",
      "   Approximate side: 146m (~14 pixels at 10m resolution)\n",
      "\n",
      "   → This constrains our maximum patch size!\n"
     ]
    }
   ],
   "source": [
    "# Find smallest class (this will constrain our patch size)\n",
    "smallest_class = class_stats['median'].idxmin()\n",
    "smallest_median = class_stats.loc[smallest_class, 'median']\n",
    "smallest_side_m = np.sqrt(smallest_median * 10000)  # Assume square polygon\n",
    "\n",
    "print(f\"\\n🔍 Key Finding:\")\n",
    "print(f\"   Smallest class: {smallest_class}\")\n",
    "print(f\"   Median area: {smallest_median:.2f} ha\")\n",
    "print(f\"   Approximate side: {smallest_side_m:.0f}m (~{int(smallest_side_m/10)} pixels at 10m resolution)\")\n",
    "print(f\"\\n   → This constrains our maximum patch size!\")"
   ]
  },
  {
   "cell_type": "markdown",
   "metadata": {},
   "source": [
    "### Visualize polygon size distribution"
   ]
  },
  {
   "cell_type": "code",
   "execution_count": 6,
   "metadata": {},
   "outputs": [
    {
     "data": {
      "text/html": [
       "\n",
       "            <style>\n",
       "                .geemap-dark {\n",
       "                    --jp-widgets-color: white;\n",
       "                    --jp-widgets-label-color: white;\n",
       "                    --jp-ui-font-color1: white;\n",
       "                    --jp-layout-color2: #454545;\n",
       "                    background-color: #383838;\n",
       "                }\n",
       "\n",
       "                .geemap-dark .jupyter-button {\n",
       "                    --jp-layout-color3: #383838;\n",
       "                }\n",
       "\n",
       "                .geemap-colab {\n",
       "                    background-color: var(--colab-primary-surface-color, white);\n",
       "                }\n",
       "\n",
       "                .geemap-colab .jupyter-button {\n",
       "                    --jp-layout-color3: var(--colab-primary-surface-color, white);\n",
       "                }\n",
       "            </style>\n",
       "            "
      ],
      "text/plain": [
       "<IPython.core.display.HTML object>"
      ]
     },
     "metadata": {},
     "output_type": "display_data"
    },
    {
     "data": {
      "image/png": "[encoded data removed]",
      "text/plain": [
       "<Figure size 1200x600 with 1 Axes>"
      ]
     },
     "metadata": {},
     "output_type": "display_data"
    },
    {
     "name": "stdout",
     "output_type": "stream",
     "text": [
      "\n",
      "💡 Interpretation:\n",
      "   Urban is the smallest class (red line shows median).\n",
      "   Our patch size must be small enough to fit within these polygons.\n"
     ]
    }
   ],
   "source": [
    "# Create box plot by class\n",
    "fig, ax = plt.subplots(figsize=(12, 6))\n",
    "\n",
    "# Box plot\n",
    "polygons.boxplot(column='area_ha', by='class_name', ax=ax, patch_artist=True)\n",
    "ax.set_xlabel('Land Cover Class', fontsize=12, fontweight='bold')\n",
    "ax.set_ylabel('Area (hectares)', fontsize=12, fontweight='bold')\n",
    "ax.set_title('Training Polygon Size Distribution by Class', fontsize=14, fontweight='bold')\n",
    "ax.get_figure().suptitle('')  # Remove auto-generated title\n",
    "\n",
    "# Add reference line for smallest class median\n",
    "ax.axhline(smallest_median, color='red', linestyle='--', linewidth=2, \n",
    "           label=f'Smallest class median: {smallest_median:.2f} ha')\n",
    "ax.legend(fontsize=10)\n",
    "ax.grid(True, alpha=0.3)\n",
    "\n",
    "plt.tight_layout()\n",
    "plt.show()\n",
    "\n",
    "print(f\"\\n💡 Interpretation:\")\n",
    "print(f\"   {smallest_class} is the smallest class (red line shows median).\")\n",
    "print(f\"   Our patch size must be small enough to fit within these polygons.\")"
   ]
  },
  {
   "cell_type": "markdown",
   "metadata": {},
   "source": [
    "---\n",
    "\n",
    "## Section 3: Load Sentinel-2 Composite\n",
    "\n",
    "### What is a composite?\n",
    "\n",
    "A **composite** is a single image created by combining multiple satellite images over time. We use the **median** value for each pixel across all cloud-free observations.\n",
    "\n",
    "**Why use composites?**\n",
    "- Reduces cloud contamination\n",
    "- Provides consistent imagery across large areas  \n",
    "- Simplifies data processing (one image instead of many)\n",
    "\n",
    "Our composite covers the 2018-2019 Austral growing season."
   ]
  },
  {
   "cell_type": "code",
   "execution_count": 7,
   "metadata": {},
   "outputs": [
    {
     "data": {
      "text/html": [
       "\n",
       "            <style>\n",
       "                .geemap-dark {\n",
       "                    --jp-widgets-color: white;\n",
       "                    --jp-widgets-label-color: white;\n",
       "                    --jp-ui-font-color1: white;\n",
       "                    --jp-layout-color2: #454545;\n",
       "                    background-color: #383838;\n",
       "                }\n",
       "\n",
       "                .geemap-dark .jupyter-button {\n",
       "                    --jp-layout-color3: #383838;\n",
       "                }\n",
       "\n",
       "                .geemap-colab {\n",
       "                    background-color: var(--colab-primary-surface-color, white);\n",
       "                }\n",
       "\n",
       "                .geemap-colab .jupyter-button {\n",
       "                    --jp-layout-color3: var(--colab-primary-surface-color, white);\n",
       "                }\n",
       "            </style>\n",
       "            "
      ],
      "text/plain": [
       "<IPython.core.display.HTML object>"
      ]
     },
     "metadata": {},
     "output_type": "display_data"
    },
    {
     "name": "stdout",
     "output_type": "stream",
     "text": [
      "✓ Composite loaded successfully\n",
      "  Asset ID: users/markstonegobigred/Parcela/s2_2019_median_6b\n",
      "  Bands: ['B2', 'B3', 'B4', 'B8', 'B11', 'B12']\n",
      "  Resolution: 10m per pixel\n"
     ]
    }
   ],
   "source": [
    "# Load pre-built composite from Earth Engine asset\n",
    "composite = ee.Image(ASSET_ID).select(BANDS)\n",
    "\n",
    "# Verify bands\n",
    "band_list = composite.bandNames().getInfo()\n",
    "\n",
    "print(f\"✓ Composite loaded successfully\")\n",
    "print(f\"  Asset ID: {ASSET_ID}\")\n",
    "print(f\"  Bands: {band_list}\")\n",
    "print(f\"  Resolution: 10m per pixel\")"
   ]
  },
  {
   "cell_type": "markdown",
   "metadata": {},
   "source": [
    "### Band Information\n",
    "\n",
    "Our 6-band configuration includes:\n",
    "\n",
    "| Band | Name | Wavelength | Purpose |\n",
    "|------|------|------------|----------|\n",
    "| B2 | Blue | 490 nm | Water bodies, atmosphere |\n",
    "| B3 | Green | 560 nm | Vegetation vigor |\n",
    "| B4 | Red | 665 nm | Chlorophyll absorption |\n",
    "| B8 | NIR | 842 nm | Vegetation biomass |\n",
    "| B11 | SWIR1 | 1610 nm | Moisture content, burn scars |\n",
    "| B12 | SWIR2 | 2190 nm | Soil/vegetation discrimination |\n",
    "\n",
    "**Why these bands?** They provide complementary information about land cover:\n",
    "- **Visible (B2, B3, B4):** What we see with our eyes\n",
    "- **NIR (B8):** Healthy vegetation reflects strongly in NIR\n",
    "- **SWIR (B11, B12):** Sensitive to water content and soil properties"
   ]
  },
  {
   "cell_type": "markdown",
   "metadata": {},
   "source": [
    "---\n",
    "\n",
    "## Section 4: Test Single Patch Extraction\n",
    "\n",
    "### Why test on one patch first?\n",
    "\n",
    "**This is the most critical step in Phase 1!**\n",
    "\n",
    "Before extracting hundreds of patches, we need to verify:\n",
    "1. ✅ Extraction works (no Earth Engine errors)\n",
    "2. ✅ Patch dimensions are correct\n",
    "3. ✅ No excessive missing data (NaN values)\n",
    "4. ✅ Value ranges are reasonable\n",
    "5. ✅ Visualization looks correct\n",
    "\n",
    "**If this test fails, batch extraction will also fail.** Better to catch issues now!\n",
    "\n",
    "### Select test polygon\n",
    "\n",
    "We'll choose a polygon from the **smallest class** (most challenging) with median size."
   ]
  },
  {
   "cell_type": "code",
   "execution_count": 8,
   "metadata": {},
   "outputs": [
    {
     "data": {
      "text/html": [
       "\n",
       "            <style>\n",
       "                .geemap-dark {\n",
       "                    --jp-widgets-color: white;\n",
       "                    --jp-widgets-label-color: white;\n",
       "                    --jp-ui-font-color1: white;\n",
       "                    --jp-layout-color2: #454545;\n",
       "                    background-color: #383838;\n",
       "                }\n",
       "\n",
       "                .geemap-dark .jupyter-button {\n",
       "                    --jp-layout-color3: #383838;\n",
       "                }\n",
       "\n",
       "                .geemap-colab {\n",
       "                    background-color: var(--colab-primary-surface-color, white);\n",
       "                }\n",
       "\n",
       "                .geemap-colab .jupyter-button {\n",
       "                    --jp-layout-color3: var(--colab-primary-surface-color, white);\n",
       "                }\n",
       "            </style>\n",
       "            "
      ],
      "text/plain": [
       "<IPython.core.display.HTML object>"
      ]
     },
     "metadata": {},
     "output_type": "display_data"
    },
    {
     "name": "stdout",
     "output_type": "stream",
     "text": [
      "Test Polygon:\n",
      "  Class: Urban\n",
      "  Area: 2.14 ha\n",
      "  ID: 83\n"
     ]
    }
   ],
   "source": [
    "# Select median-sized polygon from smallest class\n",
    "test_polygons = polygons[polygons['class_name'] == smallest_class].copy()\n",
    "test_polygons = test_polygons.sort_values('area_ha')\n",
    "test_poly = test_polygons.iloc[len(test_polygons) // 2]  # Median\n",
    "\n",
    "print(f\"Test Polygon:\")\n",
    "print(f\"  Class: {test_poly['class_name']}\")\n",
    "print(f\"  Area: {test_poly['area_ha']:.2f} ha\")\n",
    "print(f\"  ID: {test_poly.name}\")"
   ]
  },
  {
   "cell_type": "markdown",
   "metadata": {},
   "source": [
    "### Extract patch\n",
    "\n",
    "We'll extract an **8×8 pixel patch** (80m × 80m) centered on the polygon.\n",
    "\n",
    "**Why 8×8?** \n",
    "- Small enough to fit in our smallest polygons\n",
    "- Large enough for basic CNN spatial context\n",
    "- We'll refine this in Section 5"
   ]
  },
  {
   "cell_type": "code",
   "execution_count": 9,
   "metadata": {},
   "outputs": [
    {
     "data": {
      "text/html": [
       "\n",
       "            <style>\n",
       "                .geemap-dark {\n",
       "                    --jp-widgets-color: white;\n",
       "                    --jp-widgets-label-color: white;\n",
       "                    --jp-ui-font-color1: white;\n",
       "                    --jp-layout-color2: #454545;\n",
       "                    background-color: #383838;\n",
       "                }\n",
       "\n",
       "                .geemap-dark .jupyter-button {\n",
       "                    --jp-layout-color3: #383838;\n",
       "                }\n",
       "\n",
       "                .geemap-colab {\n",
       "                    background-color: var(--colab-primary-surface-color, white);\n",
       "                }\n",
       "\n",
       "                .geemap-colab .jupyter-button {\n",
       "                    --jp-layout-color3: var(--colab-primary-surface-color, white);\n",
       "                }\n",
       "            </style>\n",
       "            "
      ],
      "text/plain": [
       "<IPython.core.display.HTML object>"
      ]
     },
     "metadata": {},
     "output_type": "display_data"
    },
    {
     "name": "stdout",
     "output_type": "stream",
     "text": [
      "Patch bounds calculated:\n",
      "  Center: (-73.0334, -41.1380)\n",
      "  Size: 8×8 pixels (80m × 80m)\n"
     ]
    }
   ],
   "source": [
    "# Get polygon centroid\n",
    "centroid = test_poly.geometry.centroid\n",
    "lat, lon = centroid.y, centroid.x\n",
    "\n",
    "# Define patch size\n",
    "PATCH_SIZE = 8  # pixels\n",
    "patch_half = (PATCH_SIZE * 10) / 2  # half-width in meters (10m/pixel)\n",
    "\n",
    "# Convert meters to degrees at this latitude\n",
    "meters_per_deg_lat = 111320  # Approximately constant\n",
    "meters_per_deg_lon = 111320 * np.cos(np.radians(lat))  # Varies with latitude\n",
    "\n",
    "half_deg_lon = patch_half / meters_per_deg_lon\n",
    "half_deg_lat = patch_half / meters_per_deg_lat\n",
    "\n",
    "# Create patch bounding box\n",
    "patch_geom = ee.Geometry.Rectangle([\n",
    "    lon - half_deg_lon,\n",
    "    lat - half_deg_lat,\n",
    "    lon + half_deg_lon,\n",
    "    lat + half_deg_lat\n",
    "])\n",
    "\n",
    "print(f\"Patch bounds calculated:\")\n",
    "print(f\"  Center: ({lon:.4f}, {lat:.4f})\")\n",
    "print(f\"  Size: {PATCH_SIZE}×{PATCH_SIZE} pixels ({PATCH_SIZE*10}m × {PATCH_SIZE*10}m)\")"
   ]
  },
  {
   "cell_type": "code",
   "execution_count": 10,
   "metadata": {},
   "outputs": [
    {
     "data": {
      "text/html": [
       "\n",
       "            <style>\n",
       "                .geemap-dark {\n",
       "                    --jp-widgets-color: white;\n",
       "                    --jp-widgets-label-color: white;\n",
       "                    --jp-ui-font-color1: white;\n",
       "                    --jp-layout-color2: #454545;\n",
       "                    background-color: #383838;\n",
       "                }\n",
       "\n",
       "                .geemap-dark .jupyter-button {\n",
       "                    --jp-layout-color3: #383838;\n",
       "                }\n",
       "\n",
       "                .geemap-colab {\n",
       "                    background-color: var(--colab-primary-surface-color, white);\n",
       "                }\n",
       "\n",
       "                .geemap-colab .jupyter-button {\n",
       "                    --jp-layout-color3: var(--colab-primary-surface-color, white);\n",
       "                }\n",
       "            </style>\n",
       "            "
      ],
      "text/plain": [
       "<IPython.core.display.HTML object>"
      ]
     },
     "metadata": {},
     "output_type": "display_data"
    },
    {
     "name": "stdout",
     "output_type": "stream",
     "text": [
      "Extracting patch from Earth Engine...\n",
      "(This may take 10-30 seconds)\n",
      "  Note: Resizing from (9, 11, 6) to (8, 8, 6)\n",
      "\n",
      "✓ Extraction successful!\n",
      "  Shape: (8, 8, 6)\n"
     ]
    }
   ],
   "source": [
    "# Extract patch from Earth Engine\n",
    "print(\"Extracting patch from Earth Engine...\")\n",
    "print(\"(This may take 10-30 seconds)\")\n",
    "\n",
    "patch = geemap.ee_to_numpy(\n",
    "    composite,\n",
    "    region=patch_geom,\n",
    "    scale=10,  # 10m resolution\n",
    "    bands=BANDS\n",
    ")\n",
    "\n",
    "# Handle size mismatch (Earth Engine sometimes returns slightly different dimensions)\n",
    "if patch.shape[:2] != (PATCH_SIZE, PATCH_SIZE):\n",
    "    print(f\"  Note: Resizing from {patch.shape} to ({PATCH_SIZE}, {PATCH_SIZE}, {len(BANDS)})\")\n",
    "    h, w, c = patch.shape\n",
    "    resized = np.full((PATCH_SIZE, PATCH_SIZE, len(BANDS)), np.nan)\n",
    "    h_copy = min(h, PATCH_SIZE)\n",
    "    w_copy = min(w, PATCH_SIZE)\n",
    "    resized[:h_copy, :w_copy, :] = patch[:h_copy, :w_copy, :]\n",
    "    patch = resized\n",
    "\n",
    "print(f\"\\n✓ Extraction successful!\")\n",
    "print(f\"  Shape: {patch.shape}\")"
   ]
  },
  {
   "cell_type": "markdown",
   "metadata": {},
   "source": [
    "### Quality check"
   ]
  },
  {
   "cell_type": "code",
   "execution_count": 11,
   "metadata": {},
   "outputs": [
    {
     "data": {
      "text/html": [
       "\n",
       "            <style>\n",
       "                .geemap-dark {\n",
       "                    --jp-widgets-color: white;\n",
       "                    --jp-widgets-label-color: white;\n",
       "                    --jp-ui-font-color1: white;\n",
       "                    --jp-layout-color2: #454545;\n",
       "                    background-color: #383838;\n",
       "                }\n",
       "\n",
       "                .geemap-dark .jupyter-button {\n",
       "                    --jp-layout-color3: #383838;\n",
       "                }\n",
       "\n",
       "                .geemap-colab {\n",
       "                    background-color: var(--colab-primary-surface-color, white);\n",
       "                }\n",
       "\n",
       "                .geemap-colab .jupyter-button {\n",
       "                    --jp-layout-color3: var(--colab-primary-surface-color, white);\n",
       "                }\n",
       "            </style>\n",
       "            "
      ],
      "text/plain": [
       "<IPython.core.display.HTML object>"
      ]
     },
     "metadata": {},
     "output_type": "display_data"
    },
    {
     "name": "stdout",
     "output_type": "stream",
     "text": [
      "Quality Metrics:\n",
      "  NaN pixels: 0.0%\n",
      "  Value range: [276, 4276]\n",
      "  Mean: 1495\n",
      "\n",
      "✓ Perfect! No missing data.\n",
      "✓ Value range is reasonable for Sentinel-2 surface reflectance.\n"
     ]
    }
   ],
   "source": [
    "# Check for missing data\n",
    "nan_pct = np.isnan(patch).sum() / patch.size * 100\n",
    "valid = patch[~np.isnan(patch)]\n",
    "\n",
    "print(f\"Quality Metrics:\")\n",
    "print(f\"  NaN pixels: {nan_pct:.1f}%\")\n",
    "print(f\"  Value range: [{valid.min():.0f}, {valid.max():.0f}]\")\n",
    "print(f\"  Mean: {valid.mean():.0f}\")\n",
    "\n",
    "# Interpret results\n",
    "if nan_pct == 0:\n",
    "    print(\"\\n✓ Perfect! No missing data.\")\n",
    "elif nan_pct < 20:\n",
    "    print(f\"\\n✓ Acceptable NaN percentage (<20%).\")\n",
    "else:\n",
    "    print(f\"\\n⚠️  High NaN percentage! May indicate heavy cloud masking.\")\n",
    "\n",
    "if 0 <= valid.min() <= valid.max() <= 10000:\n",
    "    print(\"✓ Value range is reasonable for Sentinel-2 surface reflectance.\")\n",
    "else:\n",
    "    print(\"⚠️  Unusual value range - check composite quality.\")"
   ]
  },
  {
   "cell_type": "markdown",
   "metadata": {},
   "source": [
    "### Visualize extracted patch\n",
    "\n",
    "Let's create RGB and NIR visualizations to verify the patch looks correct."
   ]
  },
  {
   "cell_type": "code",
   "execution_count": 12,
   "metadata": {},
   "outputs": [
    {
     "data": {
      "text/html": [
       "\n",
       "            <style>\n",
       "                .geemap-dark {\n",
       "                    --jp-widgets-color: white;\n",
       "                    --jp-widgets-label-color: white;\n",
       "                    --jp-ui-font-color1: white;\n",
       "                    --jp-layout-color2: #454545;\n",
       "                    background-color: #383838;\n",
       "                }\n",
       "\n",
       "                .geemap-dark .jupyter-button {\n",
       "                    --jp-layout-color3: #383838;\n",
       "                }\n",
       "\n",
       "                .geemap-colab {\n",
       "                    background-color: var(--colab-primary-surface-color, white);\n",
       "                }\n",
       "\n",
       "                .geemap-colab .jupyter-button {\n",
       "                    --jp-layout-color3: var(--colab-primary-surface-color, white);\n",
       "                }\n",
       "            </style>\n",
       "            "
      ],
      "text/plain": [
       "<IPython.core.display.HTML object>"
      ]
     },
     "metadata": {},
     "output_type": "display_data"
    },
    {
     "data": {
      "image/png": "[encoded data removed]",
      "text/plain": [
       "<Figure size 1200x500 with 2 Axes>"
      ]
     },
     "metadata": {},
     "output_type": "display_data"
    },
    {
     "name": "stdout",
     "output_type": "stream",
     "text": [
      "\n",
      "💡 What to look for:\n",
      "   - RGB should show expected land cover type (Urban)\n",
      "   - NOT completely black (= no data)\n",
      "   - NOT completely white (= clouds/missing)\n",
      "   - NIR: Healthy vegetation should appear bright\n"
     ]
    }
   ],
   "source": [
    "# Create RGB and NIR visualizations\n",
    "fig, axes = plt.subplots(1, 2, figsize=(12, 5))\n",
    "\n",
    "# RGB (bands: R=B4, G=B3, B=B2)\n",
    "rgb = patch[:, :, [2, 1, 0]]  # R, G, B indices in our band list\n",
    "\n",
    "# Normalize using percentile stretch for better contrast\n",
    "rgb_display = np.zeros_like(rgb)\n",
    "for i in range(3):\n",
    "    band = rgb[:, :, i]\n",
    "    valid_band = band[~np.isnan(band)]\n",
    "    if len(valid_band) > 0:\n",
    "        p2 = np.percentile(valid_band, 2)\n",
    "        p98 = np.percentile(valid_band, 98)\n",
    "        band_norm = np.clip((band - p2) / (p98 - p2), 0, 1)\n",
    "        band_norm[np.isnan(band)] = 0  # NaN to black\n",
    "        rgb_display[:, :, i] = band_norm\n",
    "\n",
    "axes[0].imshow(rgb_display)\n",
    "axes[0].set_title(f'RGB Composite\\n{test_poly[\"class_name\"]} ({test_poly[\"area_ha\"]:.2f} ha)', \n",
    "                  fontsize=12, fontweight='bold')\n",
    "axes[0].axis('off')\n",
    "\n",
    "# NIR (B8 - band index 3)\n",
    "nir = patch[:, :, 3]\n",
    "nir_display = nir.copy()\n",
    "valid_nir = nir[~np.isnan(nir)]\n",
    "if len(valid_nir) > 0:\n",
    "    p2 = np.percentile(valid_nir, 2)\n",
    "    p98 = np.percentile(valid_nir, 98)\n",
    "    nir_display = np.clip((nir - p2) / (p98 - p2), 0, 1)\n",
    "    nir_display[np.isnan(nir)] = 0\n",
    "\n",
    "axes[1].imshow(nir_display, cmap='gray')\n",
    "axes[1].set_title('NIR Band (B8)\\nVegetation appears bright', \n",
    "                  fontsize=12, fontweight='bold')\n",
    "axes[1].axis('off')\n",
    "\n",
    "plt.tight_layout()\n",
    "plt.show()\n",
    "\n",
    "print(f\"\\n💡 What to look for:\")\n",
    "print(f\"   - RGB should show expected land cover type ({test_poly['class_name']})\")\n",
    "print(f\"   - NOT completely black (= no data)\")\n",
    "print(f\"   - NOT completely white (= clouds/missing)\")\n",
    "print(f\"   - NIR: Healthy vegetation should appear bright\")"
   ]
  },
  {
   "cell_type": "markdown",
   "metadata": {},
   "source": [
    "### ✅ Critical Milestone\n",
    "\n",
    "**If you see reasonable RGB and NIR images above, congratulations!**\n",
    "\n",
    "This means:\n",
    "- ✅ Earth Engine connection works\n",
    "- ✅ Composite is accessible\n",
    "- ✅ Patch extraction works\n",
    "- ✅ Data quality is acceptable\n",
    "\n",
    "**You're ready to proceed to batch extraction in Phase 2!**\n",
    "\n",
    "---"
   ]
  },
  {
   "cell_type": "markdown",
   "metadata": {},
   "source": [
    "## Section 5: Determine Optimal Patch Size\n",
    "\n",
    "### The patch size trade-off\n",
    "\n",
    "**Larger patches:**\n",
    "- ✅ More spatial context for CNN\n",
    "- ✅ Can capture landscape patterns\n",
    "- ❌ May not fit in small polygons\n",
    "- ❌ Fewer patches per polygon\n",
    "\n",
    "**Smaller patches:**\n",
    "- ✅ Fit in small polygons\n",
    "- ✅ More patches per polygon\n",
    "- ❌ Less spatial context\n",
    "- ❌ May be too small for effective CNN learning\n",
    "\n",
    "### Our approach\n",
    "\n",
    "1. Calculate recommended patch size for each class (based on polygon size)\n",
    "2. Choose the **minimum** across all classes (must work for smallest polygons)\n",
    "3. Apply practical constraints (CNN minimum, computational efficiency)\n",
    "4. Determine how many patches to extract per polygon"
   ]
  },
  {
   "cell_type": "code",
   "execution_count": 13,
   "metadata": {},
   "outputs": [
    {
     "data": {
      "text/html": [
       "\n",
       "            <style>\n",
       "                .geemap-dark {\n",
       "                    --jp-widgets-color: white;\n",
       "                    --jp-widgets-label-color: white;\n",
       "                    --jp-ui-font-color1: white;\n",
       "                    --jp-layout-color2: #454545;\n",
       "                    background-color: #383838;\n",
       "                }\n",
       "\n",
       "                .geemap-dark .jupyter-button {\n",
       "                    --jp-layout-color3: #383838;\n",
       "                }\n",
       "\n",
       "                .geemap-colab {\n",
       "                    background-color: var(--colab-primary-surface-color, white);\n",
       "                }\n",
       "\n",
       "                .geemap-colab .jupyter-button {\n",
       "                    --jp-layout-color3: var(--colab-primary-surface-color, white);\n",
       "                }\n",
       "            </style>\n",
       "            "
      ],
      "text/plain": [
       "<IPython.core.display.HTML object>"
      ]
     },
     "metadata": {},
     "output_type": "display_data"
    },
    {
     "name": "stdout",
     "output_type": "stream",
     "text": [
      "Recommended Patch Sizes by Class:\n",
      "--------------------------------------------------\n",
      "Agriculture :   234m side →  5px patch\n",
      "Forest      :   298m side →  7px patch\n",
      "Parcels     :   284m side →  7px patch\n",
      "Urban       :   146m side →  3px patch\n",
      "Water       :   184m side →  4px patch\n",
      "\n",
      "Minimum recommended: 3px\n"
     ]
    }
   ],
   "source": [
    "# Calculate recommended patch sizes per class\n",
    "recommendations = {}\n",
    "\n",
    "for class_name in class_stats.index:\n",
    "    median_area_ha = class_stats.loc[class_name, 'median']\n",
    "    median_area_m2 = median_area_ha * 10000\n",
    "    \n",
    "    # Assume square polygon: side = sqrt(area)\n",
    "    side_m = np.sqrt(median_area_m2)\n",
    "    \n",
    "    # Patch should be ~1/4 of polygon side (leaves room for random jitter)\n",
    "    recommended_m = side_m / 4\n",
    "    recommended_px = int(recommended_m / 10)  # 10m resolution\n",
    "    \n",
    "    recommendations[class_name] = {\n",
    "        'side_m': side_m,\n",
    "        'recommended_px': recommended_px\n",
    "    }\n",
    "\n",
    "# Display recommendations\n",
    "print(\"Recommended Patch Sizes by Class:\")\n",
    "print(\"-\" * 50)\n",
    "for class_name, rec in recommendations.items():\n",
    "    print(f\"{class_name:12s}: {rec['side_m']:5.0f}m side → {rec['recommended_px']:2d}px patch\")\n",
    "\n",
    "min_recommended = min([rec['recommended_px'] for rec in recommendations.values()])\n",
    "print(f\"\\nMinimum recommended: {min_recommended}px\")"
   ]
  },
  {
   "cell_type": "code",
   "execution_count": 14,
   "metadata": {},
   "outputs": [
    {
     "data": {
      "text/html": [
       "\n",
       "            <style>\n",
       "                .geemap-dark {\n",
       "                    --jp-widgets-color: white;\n",
       "                    --jp-widgets-label-color: white;\n",
       "                    --jp-ui-font-color1: white;\n",
       "                    --jp-layout-color2: #454545;\n",
       "                    background-color: #383838;\n",
       "                }\n",
       "\n",
       "                .geemap-dark .jupyter-button {\n",
       "                    --jp-layout-color3: #383838;\n",
       "                }\n",
       "\n",
       "                .geemap-colab {\n",
       "                    background-color: var(--colab-primary-surface-color, white);\n",
       "                }\n",
       "\n",
       "                .geemap-colab .jupyter-button {\n",
       "                    --jp-layout-color3: var(--colab-primary-surface-color, white);\n",
       "                }\n",
       "            </style>\n",
       "            "
      ],
      "text/plain": [
       "<IPython.core.display.HTML object>"
      ]
     },
     "metadata": {},
     "output_type": "display_data"
    },
    {
     "name": "stdout",
     "output_type": "stream",
     "text": [
      "\n",
      "📐 Final Patch Size Decision:\n",
      "   PATCH_SIZE = 8 pixels (80m × 80m)\n",
      "   Reason: Minimum (3px) too small, using CNN minimum\n"
     ]
    }
   ],
   "source": [
    "# Apply practical constraints\n",
    "MIN_CNN_SIZE = 8  # Minimum patch size for meaningful CNN learning\n",
    "MAX_PRACTICAL = 64  # Maximum for computational efficiency\n",
    "PREFERRED_SIZES = [8, 12, 16, 20, 24, 32, 48, 64]  # Standard sizes\n",
    "\n",
    "# Choose patch size\n",
    "if min_recommended < MIN_CNN_SIZE:\n",
    "    FINAL_PATCH_SIZE = MIN_CNN_SIZE\n",
    "    reason = f\"Minimum ({min_recommended}px) too small, using CNN minimum\"\n",
    "else:\n",
    "    # Choose largest preferred size that doesn't exceed minimum\n",
    "    valid = [p for p in PREFERRED_SIZES if p <= min_recommended]\n",
    "    FINAL_PATCH_SIZE = max(valid) if valid else MIN_CNN_SIZE\n",
    "    reason = f\"Largest preferred size ≤ minimum ({min_recommended}px)\"\n",
    "\n",
    "print(f\"\\n📐 Final Patch Size Decision:\")\n",
    "print(f\"   PATCH_SIZE = {FINAL_PATCH_SIZE} pixels ({FINAL_PATCH_SIZE * 10}m × {FINAL_PATCH_SIZE * 10}m)\")\n",
    "print(f\"   Reason: {reason}\")"
   ]
  },
  {
   "cell_type": "code",
   "execution_count": 15,
   "metadata": {},
   "outputs": [
    {
     "data": {
      "text/html": [
       "\n",
       "            <style>\n",
       "                .geemap-dark {\n",
       "                    --jp-widgets-color: white;\n",
       "                    --jp-widgets-label-color: white;\n",
       "                    --jp-ui-font-color1: white;\n",
       "                    --jp-layout-color2: #454545;\n",
       "                    background-color: #383838;\n",
       "                }\n",
       "\n",
       "                .geemap-dark .jupyter-button {\n",
       "                    --jp-layout-color3: #383838;\n",
       "                }\n",
       "\n",
       "                .geemap-colab {\n",
       "                    background-color: var(--colab-primary-surface-color, white);\n",
       "                }\n",
       "\n",
       "                .geemap-colab .jupyter-button {\n",
       "                    --jp-layout-color3: var(--colab-primary-surface-color, white);\n",
       "                }\n",
       "            </style>\n",
       "            "
      ],
      "text/plain": [
       "<IPython.core.display.HTML object>"
      ]
     },
     "metadata": {},
     "output_type": "display_data"
    },
    {
     "name": "stdout",
     "output_type": "stream",
     "text": [
      "\n",
      "   PATCHES_PER_POLYGON = 3\n",
      "   Estimated total patches = 378\n"
     ]
    }
   ],
   "source": [
    "# Determine patches per polygon\n",
    "patch_area_m2 = (FINAL_PATCH_SIZE * 10) ** 2\n",
    "\n",
    "patches_per_polygon = {}\n",
    "for class_name in class_stats.index:\n",
    "    median_area_m2 = class_stats.loc[class_name, 'median'] * 10000\n",
    "    theoretical_max = int(median_area_m2 / patch_area_m2)\n",
    "    # Extract conservatively: 10-15% of theoretical max, min 1, max 20\n",
    "    recommended = max(1, min(20, int(theoretical_max * 0.15)))\n",
    "    patches_per_polygon[class_name] = recommended\n",
    "\n",
    "# Use minimum across classes for consistency (or could use per-class values)\n",
    "PATCHES_PER_POLYGON = max(3, min(patches_per_polygon.values()))\n",
    "\n",
    "print(f\"\\n   PATCHES_PER_POLYGON = {PATCHES_PER_POLYGON}\")\n",
    "print(f\"   Estimated total patches = {len(polygons) * PATCHES_PER_POLYGON}\")"
   ]
  },
  {
   "cell_type": "markdown",
   "metadata": {},
   "source": [
    "### Visualize decision"
   ]
  },
  {
   "cell_type": "code",
   "execution_count": 16,
   "metadata": {},
   "outputs": [
    {
     "data": {
      "text/html": [
       "\n",
       "            <style>\n",
       "                .geemap-dark {\n",
       "                    --jp-widgets-color: white;\n",
       "                    --jp-widgets-label-color: white;\n",
       "                    --jp-ui-font-color1: white;\n",
       "                    --jp-layout-color2: #454545;\n",
       "                    background-color: #383838;\n",
       "                }\n",
       "\n",
       "                .geemap-dark .jupyter-button {\n",
       "                    --jp-layout-color3: #383838;\n",
       "                }\n",
       "\n",
       "                .geemap-colab {\n",
       "                    background-color: var(--colab-primary-surface-color, white);\n",
       "                }\n",
       "\n",
       "                .geemap-colab .jupyter-button {\n",
       "                    --jp-layout-color3: var(--colab-primary-surface-color, white);\n",
       "                }\n",
       "            </style>\n",
       "            "
      ],
      "text/plain": [
       "<IPython.core.display.HTML object>"
      ]
     },
     "metadata": {},
     "output_type": "display_data"
    },
    {
     "data": {
      "image/png": "[encoded data removed]",
      "text/plain": [
       "<Figure size 1200x600 with 1 Axes>"
      ]
     },
     "metadata": {},
     "output_type": "display_data"
    },
    {
     "name": "stdout",
     "output_type": "stream",
     "text": [
      "\n",
      "💡 Interpretation:\n",
      "   Green line = chosen patch size (80m)\n",
      "   Orange line = ideal polygon size (4× patch = 320m)\n",
      "   All bars should extend well beyond the green line.\n",
      "   Most bars should be near or beyond the orange line.\n"
     ]
    }
   ],
   "source": [
    "# Create visualization of polygon sizes vs chosen patch size\n",
    "fig, ax = plt.subplots(figsize=(12, 6))\n",
    "\n",
    "# Plot polygon sides\n",
    "class_names = [rec for rec in recommendations.keys()]\n",
    "median_sides = [recommendations[c]['side_m'] for c in class_names]\n",
    "colors = ['red' if c == smallest_class else 'steelblue' for c in class_names]\n",
    "\n",
    "bars = ax.barh(class_names, median_sides, color=colors, alpha=0.7, edgecolor='black')\n",
    "\n",
    "# Add chosen patch size line\n",
    "patch_size_m = FINAL_PATCH_SIZE * 10\n",
    "ax.axvline(patch_size_m, color='green', linestyle='--', linewidth=2, \n",
    "           label=f'Chosen patch: {patch_size_m}m')\n",
    "\n",
    "# Add 4× patch line (polygon should be ~4× patch size)\n",
    "ax.axvline(patch_size_m * 4, color='orange', linestyle=':', linewidth=2,\n",
    "           label=f'Ideal polygon size: {patch_size_m * 4}m')\n",
    "\n",
    "ax.set_xlabel('Length (meters)', fontsize=12, fontweight='bold')\n",
    "ax.set_title('Polygon Sizes vs. Chosen Patch Size\\n(Red = smallest class)', \n",
    "             fontsize=14, fontweight='bold')\n",
    "ax.legend(fontsize=10)\n",
    "ax.grid(True, alpha=0.3, axis='x')\n",
    "\n",
    "plt.tight_layout()\n",
    "plt.show()\n",
    "\n",
    "print(f\"\\n💡 Interpretation:\")\n",
    "print(f\"   Green line = chosen patch size ({patch_size_m}m)\")\n",
    "print(f\"   Orange line = ideal polygon size (4× patch = {patch_size_m * 4}m)\")\n",
    "print(f\"   All bars should extend well beyond the green line.\")\n",
    "print(f\"   Most bars should be near or beyond the orange line.\")"
   ]
  },
  {
   "cell_type": "markdown",
   "metadata": {},
   "source": [
    "---\n",
    "\n",
    "## Section 6: Summary & Final Configuration\n",
    "\n",
    "### What we learned in Phase 1\n",
    "\n",
    "1. **Polygon analysis** revealed that {smallest_class} is our smallest class\n",
    "2. **Composite verification** confirmed all 6 bands are accessible\n",
    "3. **Single patch test** succeeded - extraction works!\n",
    "4. **Patch size determination** balanced constraints to choose optimal parameters\n",
    "\n",
    "### Final Configuration for Phase 2"
   ]
  },
  {
   "cell_type": "code",
   "execution_count": 17,
   "metadata": {},
   "outputs": [
    {
     "data": {
      "text/html": [
       "\n",
       "            <style>\n",
       "                .geemap-dark {\n",
       "                    --jp-widgets-color: white;\n",
       "                    --jp-widgets-label-color: white;\n",
       "                    --jp-ui-font-color1: white;\n",
       "                    --jp-layout-color2: #454545;\n",
       "                    background-color: #383838;\n",
       "                }\n",
       "\n",
       "                .geemap-dark .jupyter-button {\n",
       "                    --jp-layout-color3: #383838;\n",
       "                }\n",
       "\n",
       "                .geemap-colab {\n",
       "                    background-color: var(--colab-primary-surface-color, white);\n",
       "                }\n",
       "\n",
       "                .geemap-colab .jupyter-button {\n",
       "                    --jp-layout-color3: var(--colab-primary-surface-color, white);\n",
       "                }\n",
       "            </style>\n",
       "            "
      ],
      "text/plain": [
       "<IPython.core.display.HTML object>"
      ]
     },
     "metadata": {},
     "output_type": "display_data"
    },
    {
     "name": "stdout",
     "output_type": "stream",
     "text": [
      "======================================================================\n",
      "PHASE 1 COMPLETE: Final Configuration\n",
      "======================================================================\n",
      "\n",
      "              Parameter                                             Value\n",
      "             Patch Size                                         8px (80m)\n",
      "    Patches per Polygon                                                 3\n",
      "         Total Polygons                                               126\n",
      "Estimated Total Patches                                               378\n",
      "                  Bands                          B2, B3, B4, B8, B11, B12\n",
      "         Smallest Class                            Urban (2.14 ha median)\n",
      "        Composite Asset users/markstonegobigred/Parcela/s2_2019_median_6b\n",
      "\n",
      "======================================================================\n"
     ]
    }
   ],
   "source": [
    "# Compile final configuration\n",
    "config = {\n",
    "    'patch_size_px': FINAL_PATCH_SIZE,\n",
    "    'patch_size_m': FINAL_PATCH_SIZE * 10,\n",
    "    'patches_per_polygon': PATCHES_PER_POLYGON,\n",
    "    'total_polygons': len(polygons),\n",
    "    'estimated_total_patches': len(polygons) * PATCHES_PER_POLYGON,\n",
    "    'bands': BANDS,\n",
    "    'smallest_class': smallest_class,\n",
    "    'smallest_class_median_ha': smallest_median,\n",
    "    'composite_asset': ASSET_ID\n",
    "}\n",
    "\n",
    "# Display as formatted table\n",
    "config_df = pd.DataFrame([\n",
    "    ['Patch Size', f\"{config['patch_size_px']}px ({config['patch_size_m']}m)\"],\n",
    "    ['Patches per Polygon', config['patches_per_polygon']],\n",
    "    ['Total Polygons', config['total_polygons']],\n",
    "    ['Estimated Total Patches', config['estimated_total_patches']],\n",
    "    ['Bands', ', '.join(config['bands'])],\n",
    "    ['Smallest Class', f\"{config['smallest_class']} ({config['smallest_class_median_ha']:.2f} ha median)\"],\n",
    "    ['Composite Asset', config['composite_asset']]\n",
    "], columns=['Parameter', 'Value'])\n",
    "\n",
    "print(\"=\"*70)\n",
    "print(\"PHASE 1 COMPLETE: Final Configuration\")\n",
    "print(\"=\"*70)\n",
    "print()\n",
    "print(config_df.to_string(index=False))\n",
    "print()\n",
    "print(\"=\"*70)"
   ]
  },
  {
   "cell_type": "markdown",
   "metadata": {},
   "source": [
    "### Key Takeaways\n",
    "\n",
    "✅ **Phase 1 succeeded** - All validation checks passed\n",
    "\n",
    "✅ **Single patch extraction works** - Ready for batch processing\n",
    "\n",
    "✅ **Patch size determined** - {FINAL_PATCH_SIZE}×{FINAL_PATCH_SIZE} pixels balances constraints\n",
    "\n",
    "✅ **Dataset size estimated** - ~{config['estimated_total_patches']} patches for training\n",
    "\n",
    "### Design Rationale\n",
    "\n",
    "**Why {FINAL_PATCH_SIZE}×{FINAL_PATCH_SIZE} pixels?**\n",
    "- Fits comfortably in smallest class ({smallest_class}: {smallest_median:.2f} ha)\n",
    "- Provides sufficient spatial context for CNN\n",
    "- Computationally efficient\n",
    "- Standard size for small-scale CNNs\n",
    "\n",
    "**Why {PATCHES_PER_POLYGON} patches per polygon?**\n",
    "- Conservative extraction (avoids edge effects)\n",
    "- Balances sample diversity vs. processing time\n",
    "- Can be increased in Phase 2 if needed\n",
    "\n",
    "---\n",
    "\n",
    "## Next Steps: Phase 2\n",
    "\n",
    "Now that Phase 1 is complete and validated, you're ready for:\n",
    "\n",
    "**Phase 2: Batch Patch Extraction**\n",
    "- Extract {config['estimated_total_patches']} patches from all {config['total_polygons']} polygons\n",
    "- Apply random jitter for data augmentation\n",
    "- Save patches as NumPy arrays\n",
    "- Create visualizations and quality checks\n",
    "- Split into training/validation sets\n",
    "\n",
    "**Phase 3: CNN Training** (Week 4)\n",
    "- Build CNN architecture\n",
    "- Train on extracted patches\n",
    "- Evaluate performance\n",
    "- Apply to full study area\n",
    "\n",
    "---\n",
    "\n",
    "### Congratulations!\n",
    "\n",
    "You've completed Phase 1 and established a solid foundation for CNN-based land cover classification. The key insight from Phase 1:\n",
    "\n",
    "**Testing on a single example first saves time and catches problems early!**\n",
    "\n",
    "This approach:\n",
    "- ✅ Validates your workflow before committing to batch processing\n",
    "- ✅ Helps you understand constraints (polygon size → patch size)\n",
    "- ✅ Provides configuration parameters based on actual data\n",
    "- ✅ Gives confidence that Phase 2 will succeed\n",
    "\n",
    "**Ready to move forward to Phase 2!** 🎉"
   ]
  }
 ],
 "metadata": {
  "kernelspec": {
   "display_name": "Python (geoai)",
   "language": "python",
   "name": "geoai"
  },
  "language_info": {
   "codemirror_mode": {
    "name": "ipython",
    "version": 3
   },
   "file_extension": ".py",
   "mimetype": "text/x-python",
   "name": "python",
   "nbconvert_exporter": "python",
   "pygments_lexer": "ipython3",
   "version": "3.11.11"
  }
 },
 "nbformat": 4,
 "nbformat_minor": 2
}
