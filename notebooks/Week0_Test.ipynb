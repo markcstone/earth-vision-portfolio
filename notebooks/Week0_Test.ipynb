{
 "cells": [
  {
   "cell_type": "code",
   "execution_count": null,
   "id": "48265d41-2bf8-4882-85f4-59610e6e455b",
   "metadata": {},
   "outputs": [],
   "source": [
    "\n",
    "from dotenv import load_dotenv\n",
    "import os\n",
    "# Load environment variables from .env\n",
    "load_dotenv()\n",
    "# Access the token\n",
    "github_token = os.getenv(\"GITHUB_PAT\")\n",
    "if github_token:\n",
    "print(\"✓ Token loaded successfully\")\n",
    "else:\n",
    "print(\"✗ Token not found - check your .env file\")"
   ]
  },
  {
   "cell_type": "code",
   "execution_count": null,
   "id": "7c116d13",
   "metadata": {},
   "outputs": [],
   "source": [
    "import ee\n",
    "import geemap\n",
    "ee.Initialize()\n",
    "\n",
    "# Define a simple AOI (Los Lagos region)\n",
    "aoi = ee.Geometry.Polygon(\n",
    "    [[[-73.11, -41.07],\n",
    "      [-72.94, -41.07],\n",
    "      [-72.94, -41.17],\n",
    "      [-73.11, -41.17]]])\n",
    "\n",
    "# Load a Sentinel-2 image\n",
    "image = (\n",
    "    ee.ImageCollection('COPERNICUS/S2_SR')\n",
    "    .filterBounds(aoi)\n",
    "    .filterDate('2023-01-01', '2023-12-31')\n",
    "    .sort('CLOUDY_PIXEL_PERCENTAGE')\n",
    "    .first()\n",
    ")\n",
    "\n",
    "# Visualize\n",
    "Map = geemap.Map()\n",
    "Map.centerObject(aoi, 8)\n",
    "Map.addLayer(image, {'min': 0, 'max': 3000, 'bands': ['B4', 'B3', 'B2']}, 'Sentinel-2')\n",
    "Map\n",
    "\n"
   ]
  },
  {
   "cell_type": "code",
   "execution_count": null,
   "id": "bccf8d6d",
   "metadata": {},
   "outputs": [],
   "source": [
    "\n",
    "ee.Initialize()\n",
    "\n",
    "# Define a simple AOI (Los Lagos region)\n",
    "aoi = ee.Geometry.Polygon(\n",
    "    [[[-73.11, -41.07],\n",
    "      [-72.94, -41.07],\n",
    "      [-72.94, -41.17],\n",
    "      [-73.11, -41.17]]])\n",
    "\n",
    "# Load a Sentinel-2 image\n",
    "image = (\n",
    "    ee.ImageCollection('COPERNICUS/S2_SR')\n",
    "    .filterBounds(aoi)\n",
    "    .filterDate('2023-01-01', '2023-12-31')\n",
    "    .sort('CLOUDY_PIXEL_PERCENTAGE')\n",
    "    .first()\n",
    ")\n",
    "\n",
    "# Visualize\n",
    "Map = geemap.Map()\n",
    "Map.centerObject(aoi, 8)\n",
    "Map.addLayer(image, {'min': 0, 'max': 3000, 'bands': ['B4', 'B3', 'B2']}, 'Sentinel-2')\n",
    "Map\n",
    "\n"
   ]
  },
  {
   "cell_type": "code",
   "execution_count": null,
   "id": "d1c1ea8c-95de-44e0-8e80-644d026a988e",
   "metadata": {},
   "outputs": [],
   "source": []
  },
  {
   "cell_type": "code",
   "execution_count": null,
   "id": "6be66c17-71da-454e-b01a-bd017de8994a",
   "metadata": {},
   "outputs": [],
   "source": []
  }
 ],
 "metadata": {
  "kernelspec": {
   "display_name": "geoai",
   "language": "python",
   "name": "python3"
  },
  "language_info": {
   "codemirror_mode": {
    "name": "ipython",
    "version": 3
   },
   "file_extension": ".py",
   "mimetype": "text/x-python",
   "name": "python",
   "nbconvert_exporter": "python",
   "pygments_lexer": "ipython3",
   "version": "3.11.11"
  }
 },
 "nbformat": 4,
 "nbformat_minor": 5
}
